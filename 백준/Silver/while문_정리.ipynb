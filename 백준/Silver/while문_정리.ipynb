{
  "nbformat": 4,
  "nbformat_minor": 0,
  "metadata": {
    "colab": {
      "name": "while문 정리.ipynb",
      "provenance": [],
      "collapsed_sections": []
    },
    "kernelspec": {
      "name": "python3",
      "display_name": "Python 3"
    },
    "language_info": {
      "name": "python"
    }
  },
  "cells": [
    {
      "cell_type": "markdown",
      "source": [
        "# while문 기본 구조\n",
        "while문은 조건문이 참인 동안에 while문 아래의 문장이 반복해서 수행된다.\n",
        "\n",
        "\"열 번 찍어 안 넘어가는 나무 없다\"는 속담을 파이썬 프로그램으로 만든다면"
      ],
      "metadata": {
        "id": "Heiyd3Uj8Jkr"
      }
    },
    {
      "cell_type": "markdown",
      "source": [
        "treeHit가 10보다 작은 동안에 while문 안의 문장을 계속 수행한다. treeHit =0으로 먼저 변수를 설정해놓았는데 이렇게 하지 않으면 변수가 존재하지 않는다는 오류가 발생한다."
      ],
      "metadata": {
        "id": "X1cO9TwT8nhs"
      }
    },
    {
      "cell_type": "code",
      "execution_count": 2,
      "metadata": {
        "colab": {
          "base_uri": "https://localhost:8080/"
        },
        "id": "ToWguNIH7MRo",
        "outputId": "beb9175e-c88a-490e-a4db-de684ebf26df"
      },
      "outputs": [
        {
          "output_type": "stream",
          "name": "stdout",
          "text": [
            "나무를 1번 찍었습니다.\n",
            "나무를 2번 찍었습니다.\n",
            "나무를 3번 찍었습니다.\n",
            "나무를 4번 찍었습니다.\n",
            "나무를 5번 찍었습니다.\n",
            "나무를 6번 찍었습니다.\n",
            "나무를 7번 찍었습니다.\n",
            "나무를 8번 찍었습니다.\n",
            "나무를 9번 찍었습니다.\n",
            "나무를 10번 찍었습니다.\n",
            "나무 넘어갑니다.\n"
          ]
        }
      ],
      "source": [
        "treeHit = 0\n",
        "while treeHit < 10:\n",
        "   treeHit = treeHit +1\n",
        "   print(\"나무를 %d번 찍었습니다.\" % treeHit)\n",
        "   if treeHit == 10:\n",
        "     print(\"나무 넘어갑니다.\")"
      ]
    },
    {
      "cell_type": "markdown",
      "source": [
        "# while문 강제로 빠져나가기 : break"
      ],
      "metadata": {
        "id": "fgwCHsdO9C4s"
      }
    },
    {
      "cell_type": "markdown",
      "source": [
        "money가 300으로 고정되어 있으므로 while money:에서 조건문인 money는 0이 아니기 때문에 항상 참이다. 따라서 무한히 반복되는 무한 루프를 돌게 된다."
      ],
      "metadata": {
        "id": "iN-_CAvI9YYu"
      }
    },
    {
      "cell_type": "code",
      "source": [
        "coffee = 10\n",
        "money = 300\n",
        "while money:\n",
        "  print(\"돈을 받았으니 커피를 줍니다.\")\n",
        "  coffee = coffee -1\n",
        "  print(\"남은 커피의 양은 %d개입니다.\" % coffee)\n",
        "  if coffee == 0:\n",
        "    print(\"커피가 다 떨어졌습니다. 판매를 중지합니다.\")\n",
        "    break"
      ],
      "metadata": {
        "colab": {
          "base_uri": "https://localhost:8080/"
        },
        "id": "x6KSNsG89BFy",
        "outputId": "79c45fbc-b070-4f6b-dc88-0d3544a1959b"
      },
      "execution_count": 3,
      "outputs": [
        {
          "output_type": "stream",
          "name": "stdout",
          "text": [
            "돈을 받았으니 커피를 줍니다.\n",
            "남은 커피의 양은 9개입니다.\n",
            "돈을 받았으니 커피를 줍니다.\n",
            "남은 커피의 양은 8개입니다.\n",
            "돈을 받았으니 커피를 줍니다.\n",
            "남은 커피의 양은 7개입니다.\n",
            "돈을 받았으니 커피를 줍니다.\n",
            "남은 커피의 양은 6개입니다.\n",
            "돈을 받았으니 커피를 줍니다.\n",
            "남은 커피의 양은 5개입니다.\n",
            "돈을 받았으니 커피를 줍니다.\n",
            "남은 커피의 양은 4개입니다.\n",
            "돈을 받았으니 커피를 줍니다.\n",
            "남은 커피의 양은 3개입니다.\n",
            "돈을 받았으니 커피를 줍니다.\n",
            "남은 커피의 양은 2개입니다.\n",
            "돈을 받았으니 커피를 줍니다.\n",
            "남은 커피의 양은 1개입니다.\n",
            "돈을 받았으니 커피를 줍니다.\n",
            "남은 커피의 양은 0개입니다.\n",
            "커피가 다 떨어졌습니다. 판매를 중지합니다.\n"
          ]
        }
      ]
    },
    {
      "cell_type": "markdown",
      "source": [
        "# while문의 맨 처음으로 돌아가기 : continue\n",
        "입력 조건을 검사해서 조건에 맞지 않으면 while문을 빠져나간다. 그런데 프로그래밍을 하다 보면 while문을 빠져나가지 않고 while문의 맨 처음(조건문)으로 다시 돌아가게 만들고 싶은 경우가 생기게 된다. 이때 사용하는 것이 바로 continue"
      ],
      "metadata": {
        "id": "r5kEgGr1-A4z"
      }
    },
    {
      "cell_type": "markdown",
      "source": [
        "짝수, 즉 a로 나눈 나머지 값이 0일 때 while문 맨 처음으로 돌아가서 수행한다. 짝수일 땐 print(a)가 수행되지 않는다."
      ],
      "metadata": {
        "id": "iq2VJJco-fS8"
      }
    },
    {
      "cell_type": "code",
      "source": [
        "a=0\n",
        "while a<10:\n",
        "  a=a+1\n",
        "  if a%2==0: \n",
        "    continue\n",
        "  print(a)"
      ],
      "metadata": {
        "colab": {
          "base_uri": "https://localhost:8080/"
        },
        "id": "JraFGGxV-D7V",
        "outputId": "4a5ada6d-2adb-4c36-f57d-cd6b78e0958a"
      },
      "execution_count": 4,
      "outputs": [
        {
          "output_type": "stream",
          "name": "stdout",
          "text": [
            "1\n",
            "3\n",
            "5\n",
            "7\n",
            "9\n"
          ]
        }
      ]
    },
    {
      "cell_type": "markdown",
      "source": [
        "# 무한 루프 : while True:"
      ],
      "metadata": {
        "id": "Vcai4R2e-yD0"
      }
    },
    {
      "cell_type": "code",
      "source": [
        ""
      ],
      "metadata": {
        "id": "gXBWtr6B-04N"
      },
      "execution_count": null,
      "outputs": []
    }
  ]
}